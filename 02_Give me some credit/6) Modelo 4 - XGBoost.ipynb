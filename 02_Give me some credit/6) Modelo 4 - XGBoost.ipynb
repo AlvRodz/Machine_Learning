{
 "cells": [
  {
   "cell_type": "markdown",
   "metadata": {},
   "source": [
    "# Modelo 4 - XGBoost"
   ]
  },
  {
   "cell_type": "markdown",
   "metadata": {},
   "source": [
    "XGBoost aplicado sobre los datos de entrenamiento. \n",
    "\n",
    "Se divide el dataset de entrenamiento en train y test para probar las métricas del modelo con etiquetas conocidas."
   ]
  },
  {
   "cell_type": "markdown",
   "metadata": {},
   "source": [
    "#### Paquetes\n",
    "\n"
   ]
  },
  {
   "cell_type": "code",
   "execution_count": 144,
   "metadata": {},
   "outputs": [],
   "source": [
    "from sklearn.cross_validation import train_test_split\n",
    "from sklearn.ensemble import GradientBoostingClassifier\n",
    "from sklearn import metrics \n",
    "import matplotlib.pyplot as plt\n",
    "import numpy as np\n",
    "from sklearn.metrics import roc_curve, roc_auc_score\n",
    "from sklearn.metrics import confusion_matrix\n",
    "from sklearn.metrics import accuracy_score\n",
    "from sklearn.metrics import recall_score\n",
    "from sklearn.metrics import classification_report\n",
    "from sklearn.metrics import r2_score"
   ]
  },
  {
   "cell_type": "markdown",
   "metadata": {},
   "source": [
    "#### Funciones"
   ]
  },
  {
   "cell_type": "code",
   "execution_count": 145,
   "metadata": {},
   "outputs": [],
   "source": [
    "def plot_roc_curve(fpr, tpr, label=None):\n",
    "    plt.figure(figsize=(12,10))\n",
    "    plt.plot(fpr, tpr, linewidth=2, label=label)\n",
    "    plt.plot([0,1],[0,1], \"k--\")\n",
    "    plt.axis([0,1,0,1])\n",
    "    plt.xlabel(\"False Positive Rate\")\n",
    "    plt.ylabel(\"True Positive rate\")"
   ]
  },
  {
   "cell_type": "markdown",
   "metadata": {},
   "source": [
    "## Datos tratamiento 1"
   ]
  },
  {
   "cell_type": "code",
   "execution_count": 196,
   "metadata": {},
   "outputs": [
    {
     "data": {
      "text/html": [
       "<div>\n",
       "<style scoped>\n",
       "    .dataframe tbody tr th:only-of-type {\n",
       "        vertical-align: middle;\n",
       "    }\n",
       "\n",
       "    .dataframe tbody tr th {\n",
       "        vertical-align: top;\n",
       "    }\n",
       "\n",
       "    .dataframe thead th {\n",
       "        text-align: right;\n",
       "    }\n",
       "</style>\n",
       "<table border=\"1\" class=\"dataframe\">\n",
       "  <thead>\n",
       "    <tr style=\"text-align: right;\">\n",
       "      <th></th>\n",
       "      <th></th>\n",
       "      <th>SeriousDlqin2yrs</th>\n",
       "      <th>RevolvingUtilizationOfUnsecuredLines</th>\n",
       "      <th>DebtRatio</th>\n",
       "      <th>age_21</th>\n",
       "      <th>age_22</th>\n",
       "      <th>age_23</th>\n",
       "      <th>age_24</th>\n",
       "      <th>age_25</th>\n",
       "      <th>age_26</th>\n",
       "      <th>age_27</th>\n",
       "      <th>...</th>\n",
       "      <th>Rent_(2044.0, 3000.0]</th>\n",
       "      <th>Rent_(3000.0, 3800.0]</th>\n",
       "      <th>Rent_(3800.0, 4550.0]</th>\n",
       "      <th>Rent_(4550.0, 5400.0]</th>\n",
       "      <th>Rent_(5400.0, 6300.0]</th>\n",
       "      <th>Rent_(6300.0, 7500.0]</th>\n",
       "      <th>Rent_(7500.0, 9060.0]</th>\n",
       "      <th>Rent_(9060.0, 11600.0]</th>\n",
       "      <th>Rent_(11600.0, 7727000.0]</th>\n",
       "      <th>Rent_nan</th>\n",
       "    </tr>\n",
       "  </thead>\n",
       "  <tbody>\n",
       "    <tr>\n",
       "      <th rowspan=\"5\" valign=\"top\">tr</th>\n",
       "      <th>0</th>\n",
       "      <td>1</td>\n",
       "      <td>0.766127</td>\n",
       "      <td>0.802982</td>\n",
       "      <td>0</td>\n",
       "      <td>0</td>\n",
       "      <td>0</td>\n",
       "      <td>0</td>\n",
       "      <td>0</td>\n",
       "      <td>0</td>\n",
       "      <td>0</td>\n",
       "      <td>...</td>\n",
       "      <td>0</td>\n",
       "      <td>0</td>\n",
       "      <td>0</td>\n",
       "      <td>0</td>\n",
       "      <td>0</td>\n",
       "      <td>0</td>\n",
       "      <td>0</td>\n",
       "      <td>1</td>\n",
       "      <td>0</td>\n",
       "      <td>0</td>\n",
       "    </tr>\n",
       "    <tr>\n",
       "      <th>1</th>\n",
       "      <td>0</td>\n",
       "      <td>0.957151</td>\n",
       "      <td>0.121876</td>\n",
       "      <td>0</td>\n",
       "      <td>0</td>\n",
       "      <td>0</td>\n",
       "      <td>0</td>\n",
       "      <td>0</td>\n",
       "      <td>0</td>\n",
       "      <td>0</td>\n",
       "      <td>...</td>\n",
       "      <td>1</td>\n",
       "      <td>0</td>\n",
       "      <td>0</td>\n",
       "      <td>0</td>\n",
       "      <td>0</td>\n",
       "      <td>0</td>\n",
       "      <td>0</td>\n",
       "      <td>0</td>\n",
       "      <td>0</td>\n",
       "      <td>0</td>\n",
       "    </tr>\n",
       "    <tr>\n",
       "      <th>2</th>\n",
       "      <td>0</td>\n",
       "      <td>0.658180</td>\n",
       "      <td>0.085113</td>\n",
       "      <td>0</td>\n",
       "      <td>0</td>\n",
       "      <td>0</td>\n",
       "      <td>0</td>\n",
       "      <td>0</td>\n",
       "      <td>0</td>\n",
       "      <td>0</td>\n",
       "      <td>...</td>\n",
       "      <td>0</td>\n",
       "      <td>1</td>\n",
       "      <td>0</td>\n",
       "      <td>0</td>\n",
       "      <td>0</td>\n",
       "      <td>0</td>\n",
       "      <td>0</td>\n",
       "      <td>0</td>\n",
       "      <td>0</td>\n",
       "      <td>0</td>\n",
       "    </tr>\n",
       "    <tr>\n",
       "      <th>3</th>\n",
       "      <td>0</td>\n",
       "      <td>0.233810</td>\n",
       "      <td>0.036050</td>\n",
       "      <td>0</td>\n",
       "      <td>0</td>\n",
       "      <td>0</td>\n",
       "      <td>0</td>\n",
       "      <td>0</td>\n",
       "      <td>0</td>\n",
       "      <td>0</td>\n",
       "      <td>...</td>\n",
       "      <td>0</td>\n",
       "      <td>1</td>\n",
       "      <td>0</td>\n",
       "      <td>0</td>\n",
       "      <td>0</td>\n",
       "      <td>0</td>\n",
       "      <td>0</td>\n",
       "      <td>0</td>\n",
       "      <td>0</td>\n",
       "      <td>0</td>\n",
       "    </tr>\n",
       "    <tr>\n",
       "      <th>4</th>\n",
       "      <td>0</td>\n",
       "      <td>0.907239</td>\n",
       "      <td>0.024926</td>\n",
       "      <td>0</td>\n",
       "      <td>0</td>\n",
       "      <td>0</td>\n",
       "      <td>0</td>\n",
       "      <td>0</td>\n",
       "      <td>0</td>\n",
       "      <td>0</td>\n",
       "      <td>...</td>\n",
       "      <td>0</td>\n",
       "      <td>0</td>\n",
       "      <td>0</td>\n",
       "      <td>0</td>\n",
       "      <td>0</td>\n",
       "      <td>0</td>\n",
       "      <td>0</td>\n",
       "      <td>0</td>\n",
       "      <td>1</td>\n",
       "      <td>0</td>\n",
       "    </tr>\n",
       "  </tbody>\n",
       "</table>\n",
       "<p>5 rows × 249 columns</p>\n",
       "</div>"
      ],
      "text/plain": [
       "      SeriousDlqin2yrs  RevolvingUtilizationOfUnsecuredLines  DebtRatio  \\\n",
       "tr 0                 1                              0.766127   0.802982   \n",
       "   1                 0                              0.957151   0.121876   \n",
       "   2                 0                              0.658180   0.085113   \n",
       "   3                 0                              0.233810   0.036050   \n",
       "   4                 0                              0.907239   0.024926   \n",
       "\n",
       "      age_21  age_22  age_23  age_24  age_25  age_26  age_27    ...     \\\n",
       "tr 0       0       0       0       0       0       0       0    ...      \n",
       "   1       0       0       0       0       0       0       0    ...      \n",
       "   2       0       0       0       0       0       0       0    ...      \n",
       "   3       0       0       0       0       0       0       0    ...      \n",
       "   4       0       0       0       0       0       0       0    ...      \n",
       "\n",
       "      Rent_(2044.0, 3000.0]  Rent_(3000.0, 3800.0]  Rent_(3800.0, 4550.0]  \\\n",
       "tr 0                      0                      0                      0   \n",
       "   1                      1                      0                      0   \n",
       "   2                      0                      1                      0   \n",
       "   3                      0                      1                      0   \n",
       "   4                      0                      0                      0   \n",
       "\n",
       "      Rent_(4550.0, 5400.0]  Rent_(5400.0, 6300.0]  Rent_(6300.0, 7500.0]  \\\n",
       "tr 0                      0                      0                      0   \n",
       "   1                      0                      0                      0   \n",
       "   2                      0                      0                      0   \n",
       "   3                      0                      0                      0   \n",
       "   4                      0                      0                      0   \n",
       "\n",
       "      Rent_(7500.0, 9060.0]  Rent_(9060.0, 11600.0]  \\\n",
       "tr 0                      0                       1   \n",
       "   1                      0                       0   \n",
       "   2                      0                       0   \n",
       "   3                      0                       0   \n",
       "   4                      0                       0   \n",
       "\n",
       "      Rent_(11600.0, 7727000.0]  Rent_nan  \n",
       "tr 0                          0         0  \n",
       "   1                          0         0  \n",
       "   2                          0         0  \n",
       "   3                          0         0  \n",
       "   4                          1         0  \n",
       "\n",
       "[5 rows x 249 columns]"
      ]
     },
     "execution_count": 196,
     "metadata": {},
     "output_type": "execute_result"
    }
   ],
   "source": [
    "%store -r newtrain_t1\n",
    "newtrain_t1.head(5)"
   ]
  },
  {
   "cell_type": "markdown",
   "metadata": {},
   "source": [
    "#### Datos train y datos testing"
   ]
  },
  {
   "cell_type": "code",
   "execution_count": 197,
   "metadata": {},
   "outputs": [],
   "source": [
    "# asignamos variable dependiente e independiente\n",
    "X = newtrain_t1.iloc[:,1:] # features\n",
    "y = newtrain_t1.iloc[:,0] # variable target"
   ]
  },
  {
   "cell_type": "code",
   "execution_count": 198,
   "metadata": {
    "scrolled": true
   },
   "outputs": [
    {
     "data": {
      "text/plain": [
       "(105000, 248)"
      ]
     },
     "execution_count": 198,
     "metadata": {},
     "output_type": "execute_result"
    }
   ],
   "source": [
    "# Definimos cada una de las partes. Entrenamos con el 70% de las obs.\n",
    "X_train,X_test,y_train,y_test=train_test_split(X,y,test_size=0.3,random_state=0)\n",
    "\n",
    "X_train.shape"
   ]
  },
  {
   "cell_type": "code",
   "execution_count": 199,
   "metadata": {
    "scrolled": false
   },
   "outputs": [
    {
     "name": "stdout",
     "output_type": "stream",
     "text": [
      "(105000, 248)\n",
      "(45000, 248)\n",
      "(105000,)\n",
      "(45000,)\n"
     ]
    }
   ],
   "source": [
    "# 105K obs en train, 45K en test\n",
    "# 248 variables\n",
    "print (X_train.shape)\n",
    "print (X_test.shape)\n",
    "print (y_train.shape)\n",
    "print (y_test.shape)"
   ]
  },
  {
   "cell_type": "markdown",
   "metadata": {},
   "source": [
    "### XGBoost"
   ]
  },
  {
   "cell_type": "markdown",
   "metadata": {},
   "source": [
    "##### 1) Entrenamiento"
   ]
  },
  {
   "cell_type": "code",
   "execution_count": 200,
   "metadata": {},
   "outputs": [
    {
     "data": {
      "text/plain": [
       "GradientBoostingClassifier(criterion='friedman_mse', init=None,\n",
       "              learning_rate=0.05, loss='deviance', max_depth=8,\n",
       "              max_features=None, max_leaf_nodes=None,\n",
       "              min_impurity_decrease=0.0, min_impurity_split=None,\n",
       "              min_samples_leaf=1, min_samples_split=2,\n",
       "              min_weight_fraction_leaf=0.0, n_estimators=300,\n",
       "              presort='auto', random_state=42, subsample=1.0, verbose=0,\n",
       "              warm_start=False)"
      ]
     },
     "execution_count": 200,
     "metadata": {},
     "output_type": "execute_result"
    }
   ],
   "source": [
    "# Training\n",
    "gbc_clf = GradientBoostingClassifier(n_estimators=300, learning_rate=0.05, max_depth=8, random_state=42)\n",
    "gbc_clf.fit(X_train,y_train)"
   ]
  },
  {
   "cell_type": "code",
   "execution_count": 201,
   "metadata": {},
   "outputs": [
    {
     "name": "stdout",
     "output_type": "stream",
     "text": [
      "AUC Score 0.9121503491547172\n"
     ]
    },
    {
     "data": {
      "image/png": "[encoded data removed]",
      "text/plain": [
       "<Figure size 864x720 with 1 Axes>"
      ]
     },
     "metadata": {},
     "output_type": "display_data"
    }
   ],
   "source": [
    "# Predicción sobre train\n",
    "gbc_clf_proba = gbc_clf.predict_proba(X_train)\n",
    "gbc_clf_scores = gbc_clf_proba[:,1]\n",
    "fpr_gbc, tpr_gbc, thresh_gbc = roc_curve(y_train, gbc_clf_scores)\n",
    "plot_roc_curve(fpr_gbc, tpr_gbc)\n",
    "print(\"AUC Score {}\".format(roc_auc_score(y_train, gbc_clf_scores)))"
   ]
  },
  {
   "cell_type": "markdown",
   "metadata": {},
   "source": [
    "##### 2) Validación"
   ]
  },
  {
   "cell_type": "code",
   "execution_count": 202,
   "metadata": {},
   "outputs": [
    {
     "name": "stdout",
     "output_type": "stream",
     "text": [
      "AUC Score 0.8508478921891252\n"
     ]
    },
    {
     "data": {
      "image/png": "[encoded data removed]",
      "text/plain": [
       "<Figure size 864x720 with 1 Axes>"
      ]
     },
     "metadata": {},
     "output_type": "display_data"
    }
   ],
   "source": [
    "# Predicción sobre test\n",
    "gbc_clf_proba = gbc_clf.predict_proba(X_test)\n",
    "gbc_clf_scores = gbc_clf_proba[:,1]\n",
    "fpr_gbc, tpr_gbc, thresh_gbc = roc_curve(y_test, gbc_clf_scores)\n",
    "plot_roc_curve(fpr_gbc, tpr_gbc)\n",
    "print(\"AUC Score {}\".format(roc_auc_score(y_test, gbc_clf_scores)))"
   ]
  },
  {
   "cell_type": "code",
   "execution_count": 203,
   "metadata": {},
   "outputs": [
    {
     "data": {
      "text/plain": [
       "array([[41476,   489],\n",
       "       [ 2474,   561]], dtype=int64)"
      ]
     },
     "execution_count": 203,
     "metadata": {},
     "output_type": "execute_result"
    }
   ],
   "source": [
    "# Matriz de confusión\n",
    "y_pred_test=gbc_clf.predict(X_test)\n",
    "cnf_matrix_GB = confusion_matrix(y_test, y_pred_test)\n",
    "cnf_matrix_GB"
   ]
  },
  {
   "cell_type": "code",
   "execution_count": 154,
   "metadata": {},
   "outputs": [
    {
     "name": "stdout",
     "output_type": "stream",
     "text": [
      "             precision    recall  f1-score   support\n",
      "\n",
      "          0       0.94      0.99      0.97     41965\n",
      "          1       0.53      0.18      0.27      3035\n",
      "\n",
      "avg / total       0.92      0.93      0.92     45000\n",
      "\n"
     ]
    }
   ],
   "source": [
    "# Métricas\n",
    "metricas_GB_t1 = classification_report(y_test, y_pred_test)\n",
    "print(metricas_RF_t1)"
   ]
  },
  {
   "cell_type": "code",
   "execution_count": 155,
   "metadata": {},
   "outputs": [
    {
     "data": {
      "text/plain": [
       "-0.04688322876736328"
      ]
     },
     "execution_count": 155,
     "metadata": {},
     "output_type": "execute_result"
    }
   ],
   "source": [
    "# coeficiente de determinación\n",
    "r2_score(y_test, y_pred_test)"
   ]
  },
  {
   "cell_type": "markdown",
   "metadata": {},
   "source": [
    "![title](imagen/task.png)"
   ]
  },
  {
   "cell_type": "markdown",
   "metadata": {},
   "source": [
    "## Datos tratamiento 2"
   ]
  },
  {
   "cell_type": "code",
   "execution_count": 156,
   "metadata": {},
   "outputs": [
    {
     "data": {
      "text/html": [
       "<div>\n",
       "<style scoped>\n",
       "    .dataframe tbody tr th:only-of-type {\n",
       "        vertical-align: middle;\n",
       "    }\n",
       "\n",
       "    .dataframe tbody tr th {\n",
       "        vertical-align: top;\n",
       "    }\n",
       "\n",
       "    .dataframe thead th {\n",
       "        text-align: right;\n",
       "    }\n",
       "</style>\n",
       "<table border=\"1\" class=\"dataframe\">\n",
       "  <thead>\n",
       "    <tr style=\"text-align: right;\">\n",
       "      <th></th>\n",
       "      <th></th>\n",
       "      <th>SeriousDlqin2yrs</th>\n",
       "      <th>RevolvingUtilizationOfUnsecuredLines</th>\n",
       "      <th>DebtRatio</th>\n",
       "      <th>MonthlyIncome</th>\n",
       "      <th>age_21</th>\n",
       "      <th>age_22</th>\n",
       "      <th>age_23</th>\n",
       "      <th>age_24</th>\n",
       "      <th>age_25</th>\n",
       "      <th>age_26</th>\n",
       "      <th>...</th>\n",
       "      <th>nDep_5.0</th>\n",
       "      <th>nDep_6.0</th>\n",
       "      <th>nDep_7.0</th>\n",
       "      <th>nDep_8.0</th>\n",
       "      <th>nDep_9.0</th>\n",
       "      <th>nDep_10.0</th>\n",
       "      <th>nDep_13.0</th>\n",
       "      <th>nDep_20.0</th>\n",
       "      <th>nDep_43.0</th>\n",
       "      <th>nDep_nan</th>\n",
       "    </tr>\n",
       "  </thead>\n",
       "  <tbody>\n",
       "    <tr>\n",
       "      <th rowspan=\"5\" valign=\"top\">tr</th>\n",
       "      <th>0</th>\n",
       "      <td>1</td>\n",
       "      <td>0.766127</td>\n",
       "      <td>0.802982</td>\n",
       "      <td>9120.0</td>\n",
       "      <td>0</td>\n",
       "      <td>0</td>\n",
       "      <td>0</td>\n",
       "      <td>0</td>\n",
       "      <td>0</td>\n",
       "      <td>0</td>\n",
       "      <td>...</td>\n",
       "      <td>0</td>\n",
       "      <td>0</td>\n",
       "      <td>0</td>\n",
       "      <td>0</td>\n",
       "      <td>0</td>\n",
       "      <td>0</td>\n",
       "      <td>0</td>\n",
       "      <td>0</td>\n",
       "      <td>0</td>\n",
       "      <td>0</td>\n",
       "    </tr>\n",
       "    <tr>\n",
       "      <th>1</th>\n",
       "      <td>0</td>\n",
       "      <td>0.957151</td>\n",
       "      <td>0.121876</td>\n",
       "      <td>2600.0</td>\n",
       "      <td>0</td>\n",
       "      <td>0</td>\n",
       "      <td>0</td>\n",
       "      <td>0</td>\n",
       "      <td>0</td>\n",
       "      <td>0</td>\n",
       "      <td>...</td>\n",
       "      <td>0</td>\n",
       "      <td>0</td>\n",
       "      <td>0</td>\n",
       "      <td>0</td>\n",
       "      <td>0</td>\n",
       "      <td>0</td>\n",
       "      <td>0</td>\n",
       "      <td>0</td>\n",
       "      <td>0</td>\n",
       "      <td>0</td>\n",
       "    </tr>\n",
       "    <tr>\n",
       "      <th>2</th>\n",
       "      <td>0</td>\n",
       "      <td>0.658180</td>\n",
       "      <td>0.085113</td>\n",
       "      <td>3042.0</td>\n",
       "      <td>0</td>\n",
       "      <td>0</td>\n",
       "      <td>0</td>\n",
       "      <td>0</td>\n",
       "      <td>0</td>\n",
       "      <td>0</td>\n",
       "      <td>...</td>\n",
       "      <td>0</td>\n",
       "      <td>0</td>\n",
       "      <td>0</td>\n",
       "      <td>0</td>\n",
       "      <td>0</td>\n",
       "      <td>0</td>\n",
       "      <td>0</td>\n",
       "      <td>0</td>\n",
       "      <td>0</td>\n",
       "      <td>0</td>\n",
       "    </tr>\n",
       "    <tr>\n",
       "      <th>3</th>\n",
       "      <td>0</td>\n",
       "      <td>0.233810</td>\n",
       "      <td>0.036050</td>\n",
       "      <td>3300.0</td>\n",
       "      <td>0</td>\n",
       "      <td>0</td>\n",
       "      <td>0</td>\n",
       "      <td>0</td>\n",
       "      <td>0</td>\n",
       "      <td>0</td>\n",
       "      <td>...</td>\n",
       "      <td>0</td>\n",
       "      <td>0</td>\n",
       "      <td>0</td>\n",
       "      <td>0</td>\n",
       "      <td>0</td>\n",
       "      <td>0</td>\n",
       "      <td>0</td>\n",
       "      <td>0</td>\n",
       "      <td>0</td>\n",
       "      <td>0</td>\n",
       "    </tr>\n",
       "    <tr>\n",
       "      <th>4</th>\n",
       "      <td>0</td>\n",
       "      <td>0.907239</td>\n",
       "      <td>0.024926</td>\n",
       "      <td>63588.0</td>\n",
       "      <td>0</td>\n",
       "      <td>0</td>\n",
       "      <td>0</td>\n",
       "      <td>0</td>\n",
       "      <td>0</td>\n",
       "      <td>0</td>\n",
       "      <td>...</td>\n",
       "      <td>0</td>\n",
       "      <td>0</td>\n",
       "      <td>0</td>\n",
       "      <td>0</td>\n",
       "      <td>0</td>\n",
       "      <td>0</td>\n",
       "      <td>0</td>\n",
       "      <td>0</td>\n",
       "      <td>0</td>\n",
       "      <td>0</td>\n",
       "    </tr>\n",
       "  </tbody>\n",
       "</table>\n",
       "<p>5 rows × 216 columns</p>\n",
       "</div>"
      ],
      "text/plain": [
       "      SeriousDlqin2yrs  RevolvingUtilizationOfUnsecuredLines  DebtRatio  \\\n",
       "tr 0                 1                              0.766127   0.802982   \n",
       "   1                 0                              0.957151   0.121876   \n",
       "   2                 0                              0.658180   0.085113   \n",
       "   3                 0                              0.233810   0.036050   \n",
       "   4                 0                              0.907239   0.024926   \n",
       "\n",
       "      MonthlyIncome  age_21  age_22  age_23  age_24  age_25  age_26    ...     \\\n",
       "tr 0         9120.0       0       0       0       0       0       0    ...      \n",
       "   1         2600.0       0       0       0       0       0       0    ...      \n",
       "   2         3042.0       0       0       0       0       0       0    ...      \n",
       "   3         3300.0       0       0       0       0       0       0    ...      \n",
       "   4        63588.0       0       0       0       0       0       0    ...      \n",
       "\n",
       "      nDep_5.0  nDep_6.0  nDep_7.0  nDep_8.0  nDep_9.0  nDep_10.0  nDep_13.0  \\\n",
       "tr 0         0         0         0         0         0          0          0   \n",
       "   1         0         0         0         0         0          0          0   \n",
       "   2         0         0         0         0         0          0          0   \n",
       "   3         0         0         0         0         0          0          0   \n",
       "   4         0         0         0         0         0          0          0   \n",
       "\n",
       "      nDep_20.0  nDep_43.0  nDep_nan  \n",
       "tr 0          0          0         0  \n",
       "   1          0          0         0  \n",
       "   2          0          0         0  \n",
       "   3          0          0         0  \n",
       "   4          0          0         0  \n",
       "\n",
       "[5 rows x 216 columns]"
      ]
     },
     "execution_count": 156,
     "metadata": {},
     "output_type": "execute_result"
    }
   ],
   "source": [
    "%store -r newtrain_t2\n",
    "newtrain_t2.head(5)"
   ]
  },
  {
   "cell_type": "markdown",
   "metadata": {},
   "source": [
    "#### Datos train y datos testing"
   ]
  },
  {
   "cell_type": "code",
   "execution_count": 157,
   "metadata": {},
   "outputs": [],
   "source": [
    "# asignamos variable dependiente e independiente\n",
    "X = newtrain_t2.iloc[:,1:] # features\n",
    "y = newtrain_t2.iloc[:,0] # variable target"
   ]
  },
  {
   "cell_type": "code",
   "execution_count": 158,
   "metadata": {
    "scrolled": true
   },
   "outputs": [
    {
     "data": {
      "text/plain": [
       "(105000, 215)"
      ]
     },
     "execution_count": 158,
     "metadata": {},
     "output_type": "execute_result"
    }
   ],
   "source": [
    "# Definimos cada una de las partes. Entrenamos con el 70% de las obs.\n",
    "X_train,X_test,y_train,y_test=train_test_split(X,y,test_size=0.3,random_state=0)\n",
    "\n",
    "X_train.shape"
   ]
  },
  {
   "cell_type": "code",
   "execution_count": 159,
   "metadata": {
    "scrolled": false
   },
   "outputs": [
    {
     "name": "stdout",
     "output_type": "stream",
     "text": [
      "(105000, 215)\n",
      "(45000, 215)\n",
      "(105000,)\n",
      "(45000,)\n"
     ]
    }
   ],
   "source": [
    "# 105K obs en train, 45K en test\n",
    "# 215 variables\n",
    "print (X_train.shape)\n",
    "print (X_test.shape)\n",
    "print (y_train.shape)\n",
    "print (y_test.shape)"
   ]
  },
  {
   "cell_type": "markdown",
   "metadata": {},
   "source": [
    "### XGBoost"
   ]
  },
  {
   "cell_type": "markdown",
   "metadata": {},
   "source": [
    "##### 1) Entrenamiento"
   ]
  },
  {
   "cell_type": "code",
   "execution_count": 160,
   "metadata": {},
   "outputs": [
    {
     "data": {
      "text/plain": [
       "GradientBoostingClassifier(criterion='friedman_mse', init=None,\n",
       "              learning_rate=0.05, loss='deviance', max_depth=8,\n",
       "              max_features=None, max_leaf_nodes=None,\n",
       "              min_impurity_decrease=0.0, min_impurity_split=None,\n",
       "              min_samples_leaf=1, min_samples_split=2,\n",
       "              min_weight_fraction_leaf=0.0, n_estimators=300,\n",
       "              presort='auto', random_state=42, subsample=1.0, verbose=0,\n",
       "              warm_start=False)"
      ]
     },
     "execution_count": 160,
     "metadata": {},
     "output_type": "execute_result"
    }
   ],
   "source": [
    "# Training\n",
    "gbc_clf = GradientBoostingClassifier(n_estimators=300, learning_rate=0.05, max_depth=8, random_state=42)\n",
    "gbc_clf.fit(X_train,y_train)"
   ]
  },
  {
   "cell_type": "code",
   "execution_count": 161,
   "metadata": {},
   "outputs": [
    {
     "name": "stdout",
     "output_type": "stream",
     "text": [
      "AUC Score 0.912316056483762\n"
     ]
    },
    {
     "data": {
      "image/png": "[encoded data removed]",
      "text/plain": [
       "<Figure size 864x720 with 1 Axes>"
      ]
     },
     "metadata": {},
     "output_type": "display_data"
    }
   ],
   "source": [
    "# Predicción sobre train\n",
    "gbc_clf_proba = gbc_clf.predict_proba(X_train)\n",
    "gbc_clf_scores = gbc_clf_proba[:,1]\n",
    "fpr_gbc, tpr_gbc, thresh_gbc = roc_curve(y_train, gbc_clf_scores)\n",
    "plot_roc_curve(fpr_gbc, tpr_gbc)\n",
    "print(\"AUC Score {}\".format(roc_auc_score(y_train, gbc_clf_scores)))"
   ]
  },
  {
   "cell_type": "markdown",
   "metadata": {},
   "source": [
    "##### 2) Validación"
   ]
  },
  {
   "cell_type": "code",
   "execution_count": 162,
   "metadata": {},
   "outputs": [
    {
     "name": "stdout",
     "output_type": "stream",
     "text": [
      "AUC Score 0.8489976290354145\n"
     ]
    },
    {
     "data": {
      "image/png": "[encoded data removed]",
      "text/plain": [
       "<Figure size 864x720 with 1 Axes>"
      ]
     },
     "metadata": {},
     "output_type": "display_data"
    }
   ],
   "source": [
    "# Predicción sobre test\n",
    "gbc_clf_proba = gbc_clf.predict_proba(X_test)\n",
    "gbc_clf_scores = gbc_clf_proba[:,1]\n",
    "fpr_gbc, tpr_gbc, thresh_gbc = roc_curve(y_test, gbc_clf_scores)\n",
    "plot_roc_curve(fpr_gbc, tpr_gbc)\n",
    "print(\"AUC Score {}\".format(roc_auc_score(y_test, gbc_clf_scores)))"
   ]
  },
  {
   "cell_type": "code",
   "execution_count": 163,
   "metadata": {},
   "outputs": [
    {
     "data": {
      "text/plain": [
       "array([[41499,   466],\n",
       "       [ 2549,   486]], dtype=int64)"
      ]
     },
     "execution_count": 163,
     "metadata": {},
     "output_type": "execute_result"
    }
   ],
   "source": [
    "# Matriz de confusión\n",
    "y_pred_test=gbc_clf.predict(X_test)\n",
    "cnf_matrix = confusion_matrix(y_test, y_pred_test)\n",
    "cnf_matrix"
   ]
  },
  {
   "cell_type": "code",
   "execution_count": 164,
   "metadata": {},
   "outputs": [
    {
     "name": "stdout",
     "output_type": "stream",
     "text": [
      "             precision    recall  f1-score   support\n",
      "\n",
      "          0       0.94      0.99      0.96     41965\n",
      "          1       0.51      0.16      0.24      3035\n",
      "\n",
      "avg / total       0.91      0.93      0.92     45000\n",
      "\n"
     ]
    }
   ],
   "source": [
    "# Métricas\n",
    "metricas_GB_t2 = classification_report(y_test, y_pred_test)\n",
    "print(metricas_GB_t2)"
   ]
  },
  {
   "cell_type": "code",
   "execution_count": 165,
   "metadata": {},
   "outputs": [
    {
     "data": {
      "text/plain": [
       "-0.06525579977509288"
      ]
     },
     "execution_count": 165,
     "metadata": {},
     "output_type": "execute_result"
    }
   ],
   "source": [
    "# coeficiente de determinación\n",
    "r2_score(y_test, y_pred_test)"
   ]
  },
  {
   "cell_type": "markdown",
   "metadata": {},
   "source": [
    "![title](imagen/task.png)"
   ]
  },
  {
   "cell_type": "markdown",
   "metadata": {},
   "source": [
    "## Datos tratamiento 3"
   ]
  },
  {
   "cell_type": "code",
   "execution_count": 166,
   "metadata": {},
   "outputs": [
    {
     "data": {
      "text/html": [
       "<div>\n",
       "<style scoped>\n",
       "    .dataframe tbody tr th:only-of-type {\n",
       "        vertical-align: middle;\n",
       "    }\n",
       "\n",
       "    .dataframe tbody tr th {\n",
       "        vertical-align: top;\n",
       "    }\n",
       "\n",
       "    .dataframe thead th {\n",
       "        text-align: right;\n",
       "    }\n",
       "</style>\n",
       "<table border=\"1\" class=\"dataframe\">\n",
       "  <thead>\n",
       "    <tr style=\"text-align: right;\">\n",
       "      <th></th>\n",
       "      <th></th>\n",
       "      <th>SeriousDlqin2yrs</th>\n",
       "      <th>RevolvingUtilizationOfUnsecuredLines</th>\n",
       "      <th>DebtRatio</th>\n",
       "      <th>MonthlyIncome</th>\n",
       "      <th>age_21</th>\n",
       "      <th>age_22</th>\n",
       "      <th>age_23</th>\n",
       "      <th>age_24</th>\n",
       "      <th>age_25</th>\n",
       "      <th>age_26</th>\n",
       "      <th>...</th>\n",
       "      <th>nDep_5.0</th>\n",
       "      <th>nDep_6.0</th>\n",
       "      <th>nDep_7.0</th>\n",
       "      <th>nDep_8.0</th>\n",
       "      <th>nDep_9.0</th>\n",
       "      <th>nDep_10.0</th>\n",
       "      <th>nDep_13.0</th>\n",
       "      <th>nDep_20.0</th>\n",
       "      <th>nDep_43.0</th>\n",
       "      <th>nDep_nan</th>\n",
       "    </tr>\n",
       "  </thead>\n",
       "  <tbody>\n",
       "    <tr>\n",
       "      <th rowspan=\"5\" valign=\"top\">tr</th>\n",
       "      <th>0</th>\n",
       "      <td>1</td>\n",
       "      <td>0.766127</td>\n",
       "      <td>0.802982</td>\n",
       "      <td>9120.0</td>\n",
       "      <td>0</td>\n",
       "      <td>0</td>\n",
       "      <td>0</td>\n",
       "      <td>0</td>\n",
       "      <td>0</td>\n",
       "      <td>0</td>\n",
       "      <td>...</td>\n",
       "      <td>0</td>\n",
       "      <td>0</td>\n",
       "      <td>0</td>\n",
       "      <td>0</td>\n",
       "      <td>0</td>\n",
       "      <td>0</td>\n",
       "      <td>0</td>\n",
       "      <td>0</td>\n",
       "      <td>0</td>\n",
       "      <td>0</td>\n",
       "    </tr>\n",
       "    <tr>\n",
       "      <th>1</th>\n",
       "      <td>0</td>\n",
       "      <td>0.957151</td>\n",
       "      <td>0.121876</td>\n",
       "      <td>2600.0</td>\n",
       "      <td>0</td>\n",
       "      <td>0</td>\n",
       "      <td>0</td>\n",
       "      <td>0</td>\n",
       "      <td>0</td>\n",
       "      <td>0</td>\n",
       "      <td>...</td>\n",
       "      <td>0</td>\n",
       "      <td>0</td>\n",
       "      <td>0</td>\n",
       "      <td>0</td>\n",
       "      <td>0</td>\n",
       "      <td>0</td>\n",
       "      <td>0</td>\n",
       "      <td>0</td>\n",
       "      <td>0</td>\n",
       "      <td>0</td>\n",
       "    </tr>\n",
       "    <tr>\n",
       "      <th>2</th>\n",
       "      <td>0</td>\n",
       "      <td>0.658180</td>\n",
       "      <td>0.085113</td>\n",
       "      <td>3042.0</td>\n",
       "      <td>0</td>\n",
       "      <td>0</td>\n",
       "      <td>0</td>\n",
       "      <td>0</td>\n",
       "      <td>0</td>\n",
       "      <td>0</td>\n",
       "      <td>...</td>\n",
       "      <td>0</td>\n",
       "      <td>0</td>\n",
       "      <td>0</td>\n",
       "      <td>0</td>\n",
       "      <td>0</td>\n",
       "      <td>0</td>\n",
       "      <td>0</td>\n",
       "      <td>0</td>\n",
       "      <td>0</td>\n",
       "      <td>0</td>\n",
       "    </tr>\n",
       "    <tr>\n",
       "      <th>3</th>\n",
       "      <td>0</td>\n",
       "      <td>0.233810</td>\n",
       "      <td>0.036050</td>\n",
       "      <td>3300.0</td>\n",
       "      <td>0</td>\n",
       "      <td>0</td>\n",
       "      <td>0</td>\n",
       "      <td>0</td>\n",
       "      <td>0</td>\n",
       "      <td>0</td>\n",
       "      <td>...</td>\n",
       "      <td>0</td>\n",
       "      <td>0</td>\n",
       "      <td>0</td>\n",
       "      <td>0</td>\n",
       "      <td>0</td>\n",
       "      <td>0</td>\n",
       "      <td>0</td>\n",
       "      <td>0</td>\n",
       "      <td>0</td>\n",
       "      <td>0</td>\n",
       "    </tr>\n",
       "    <tr>\n",
       "      <th>4</th>\n",
       "      <td>0</td>\n",
       "      <td>0.907239</td>\n",
       "      <td>0.024926</td>\n",
       "      <td>63588.0</td>\n",
       "      <td>0</td>\n",
       "      <td>0</td>\n",
       "      <td>0</td>\n",
       "      <td>0</td>\n",
       "      <td>0</td>\n",
       "      <td>0</td>\n",
       "      <td>...</td>\n",
       "      <td>0</td>\n",
       "      <td>0</td>\n",
       "      <td>0</td>\n",
       "      <td>0</td>\n",
       "      <td>0</td>\n",
       "      <td>0</td>\n",
       "      <td>0</td>\n",
       "      <td>0</td>\n",
       "      <td>0</td>\n",
       "      <td>0</td>\n",
       "    </tr>\n",
       "  </tbody>\n",
       "</table>\n",
       "<p>5 rows × 197 columns</p>\n",
       "</div>"
      ],
      "text/plain": [
       "      SeriousDlqin2yrs  RevolvingUtilizationOfUnsecuredLines  DebtRatio  \\\n",
       "tr 0                 1                              0.766127   0.802982   \n",
       "   1                 0                              0.957151   0.121876   \n",
       "   2                 0                              0.658180   0.085113   \n",
       "   3                 0                              0.233810   0.036050   \n",
       "   4                 0                              0.907239   0.024926   \n",
       "\n",
       "      MonthlyIncome  age_21  age_22  age_23  age_24  age_25  age_26    ...     \\\n",
       "tr 0         9120.0       0       0       0       0       0       0    ...      \n",
       "   1         2600.0       0       0       0       0       0       0    ...      \n",
       "   2         3042.0       0       0       0       0       0       0    ...      \n",
       "   3         3300.0       0       0       0       0       0       0    ...      \n",
       "   4        63588.0       0       0       0       0       0       0    ...      \n",
       "\n",
       "      nDep_5.0  nDep_6.0  nDep_7.0  nDep_8.0  nDep_9.0  nDep_10.0  nDep_13.0  \\\n",
       "tr 0         0         0         0         0         0          0          0   \n",
       "   1         0         0         0         0         0          0          0   \n",
       "   2         0         0         0         0         0          0          0   \n",
       "   3         0         0         0         0         0          0          0   \n",
       "   4         0         0         0         0         0          0          0   \n",
       "\n",
       "      nDep_20.0  nDep_43.0  nDep_nan  \n",
       "tr 0          0          0         0  \n",
       "   1          0          0         0  \n",
       "   2          0          0         0  \n",
       "   3          0          0         0  \n",
       "   4          0          0         0  \n",
       "\n",
       "[5 rows x 197 columns]"
      ]
     },
     "execution_count": 166,
     "metadata": {},
     "output_type": "execute_result"
    }
   ],
   "source": [
    "%store -r newtrain_t3\n",
    "newtrain_t3.head(5)"
   ]
  },
  {
   "cell_type": "markdown",
   "metadata": {},
   "source": [
    "#### Datos train y datos testing"
   ]
  },
  {
   "cell_type": "code",
   "execution_count": 167,
   "metadata": {},
   "outputs": [],
   "source": [
    "# asignamos variable dependiente e independiente\n",
    "X = newtrain_t3.iloc[:,1:] # features\n",
    "y = newtrain_t3.iloc[:,0] # variable target"
   ]
  },
  {
   "cell_type": "code",
   "execution_count": 168,
   "metadata": {},
   "outputs": [
    {
     "data": {
      "text/plain": [
       "(105000, 196)"
      ]
     },
     "execution_count": 168,
     "metadata": {},
     "output_type": "execute_result"
    }
   ],
   "source": [
    "# Definimos cada una de las partes. Entrenamos con el 70% de las obs.\n",
    "X_train,X_test,y_train,y_test=train_test_split(X,y,test_size=0.3,random_state=0)\n",
    "\n",
    "X_train.shape"
   ]
  },
  {
   "cell_type": "code",
   "execution_count": 169,
   "metadata": {
    "scrolled": false
   },
   "outputs": [
    {
     "name": "stdout",
     "output_type": "stream",
     "text": [
      "(105000, 196)\n",
      "(45000, 196)\n",
      "(105000,)\n",
      "(45000,)\n"
     ]
    }
   ],
   "source": [
    "# 105K obs en train, 45K en test\n",
    "# 196 variables\n",
    "print (X_train.shape)\n",
    "print (X_test.shape)\n",
    "print (y_train.shape)\n",
    "print (y_test.shape)"
   ]
  },
  {
   "cell_type": "markdown",
   "metadata": {},
   "source": [
    "### XGBoost"
   ]
  },
  {
   "cell_type": "markdown",
   "metadata": {},
   "source": [
    "##### 1) Entrenamiento"
   ]
  },
  {
   "cell_type": "code",
   "execution_count": 170,
   "metadata": {},
   "outputs": [
    {
     "data": {
      "text/plain": [
       "GradientBoostingClassifier(criterion='friedman_mse', init=None,\n",
       "              learning_rate=0.05, loss='deviance', max_depth=8,\n",
       "              max_features=None, max_leaf_nodes=None,\n",
       "              min_impurity_decrease=0.0, min_impurity_split=None,\n",
       "              min_samples_leaf=1, min_samples_split=2,\n",
       "              min_weight_fraction_leaf=0.0, n_estimators=300,\n",
       "              presort='auto', random_state=42, subsample=1.0, verbose=0,\n",
       "              warm_start=False)"
      ]
     },
     "execution_count": 170,
     "metadata": {},
     "output_type": "execute_result"
    }
   ],
   "source": [
    "# Training\n",
    "gbc_clf = GradientBoostingClassifier(n_estimators=300, learning_rate=0.05, max_depth=8, random_state=42)\n",
    "gbc_clf.fit(X_train,y_train)"
   ]
  },
  {
   "cell_type": "code",
   "execution_count": 171,
   "metadata": {},
   "outputs": [
    {
     "name": "stdout",
     "output_type": "stream",
     "text": [
      "AUC Score 0.9122634856969798\n"
     ]
    },
    {
     "data": {
      "image/png": "[encoded data removed]",
      "text/plain": [
       "<Figure size 864x720 with 1 Axes>"
      ]
     },
     "metadata": {},
     "output_type": "display_data"
    }
   ],
   "source": [
    "# Predicción sobre train\n",
    "gbc_clf_proba = gbc_clf.predict_proba(X_train)\n",
    "gbc_clf_scores = gbc_clf_proba[:,1]\n",
    "fpr_gbc, tpr_gbc, thresh_gbc = roc_curve(y_train, gbc_clf_scores)\n",
    "plot_roc_curve(fpr_gbc, tpr_gbc)\n",
    "print(\"AUC Score {}\".format(roc_auc_score(y_train, gbc_clf_scores)))"
   ]
  },
  {
   "cell_type": "markdown",
   "metadata": {},
   "source": [
    "##### 2) Validación"
   ]
  },
  {
   "cell_type": "code",
   "execution_count": 172,
   "metadata": {},
   "outputs": [
    {
     "name": "stdout",
     "output_type": "stream",
     "text": [
      "AUC Score 0.8463284320836125\n"
     ]
    },
    {
     "data": {
      "image/png": "[encoded data removed]",
      "text/plain": [
       "<Figure size 864x720 with 1 Axes>"
      ]
     },
     "metadata": {},
     "output_type": "display_data"
    }
   ],
   "source": [
    "# Predicción sobre test\n",
    "gbc_clf_proba = gbc_clf.predict_proba(X_test)\n",
    "gbc_clf_scores = gbc_clf_proba[:,1]\n",
    "fpr_gbc, tpr_gbc, thresh_gbc = roc_curve(y_test, gbc_clf_scores)\n",
    "plot_roc_curve(fpr_gbc, tpr_gbc)\n",
    "print(\"AUC Score {}\".format(roc_auc_score(y_test, gbc_clf_scores)))"
   ]
  },
  {
   "cell_type": "code",
   "execution_count": 173,
   "metadata": {},
   "outputs": [
    {
     "data": {
      "text/plain": [
       "array([[41501,   464],\n",
       "       [ 2550,   485]], dtype=int64)"
      ]
     },
     "execution_count": 173,
     "metadata": {},
     "output_type": "execute_result"
    }
   ],
   "source": [
    "# Matriz de confusión\n",
    "y_pred_test=gbc_clf.predict(X_test)\n",
    "cnf_matrix = confusion_matrix(y_test, y_pred_test)\n",
    "cnf_matrix"
   ]
  },
  {
   "cell_type": "code",
   "execution_count": 174,
   "metadata": {},
   "outputs": [
    {
     "name": "stdout",
     "output_type": "stream",
     "text": [
      "             precision    recall  f1-score   support\n",
      "\n",
      "          0       0.94      0.99      0.96     41965\n",
      "          1       0.51      0.16      0.24      3035\n",
      "\n",
      "avg / total       0.91      0.93      0.92     45000\n",
      "\n"
     ]
    }
   ],
   "source": [
    "# Métricas\n",
    "metricas_GB_t3 = classification_report(y_test, y_pred_test)\n",
    "print(metricas_GB_t3)"
   ]
  },
  {
   "cell_type": "code",
   "execution_count": 175,
   "metadata": {},
   "outputs": [
    {
     "data": {
      "text/plain": [
       "-0.06490248110186725"
      ]
     },
     "execution_count": 175,
     "metadata": {},
     "output_type": "execute_result"
    }
   ],
   "source": [
    "# coeficiente de determinación\n",
    "r2_score(y_test, y_pred_test)"
   ]
  },
  {
   "cell_type": "markdown",
   "metadata": {},
   "source": [
    "![title](imagen/task.png)"
   ]
  },
  {
   "cell_type": "markdown",
   "metadata": {},
   "source": [
    "## Datos tratamiento 4"
   ]
  },
  {
   "cell_type": "code",
   "execution_count": 176,
   "metadata": {},
   "outputs": [
    {
     "data": {
      "text/html": [
       "<div>\n",
       "<style scoped>\n",
       "    .dataframe tbody tr th:only-of-type {\n",
       "        vertical-align: middle;\n",
       "    }\n",
       "\n",
       "    .dataframe tbody tr th {\n",
       "        vertical-align: top;\n",
       "    }\n",
       "\n",
       "    .dataframe thead th {\n",
       "        text-align: right;\n",
       "    }\n",
       "</style>\n",
       "<table border=\"1\" class=\"dataframe\">\n",
       "  <thead>\n",
       "    <tr style=\"text-align: right;\">\n",
       "      <th></th>\n",
       "      <th></th>\n",
       "      <th>SeriousDlqin2yrs</th>\n",
       "      <th>RevolvingUtilizationOfUnsecuredLines</th>\n",
       "      <th>DebtRatio</th>\n",
       "      <th>age_21</th>\n",
       "      <th>age_22</th>\n",
       "      <th>age_23</th>\n",
       "      <th>age_24</th>\n",
       "      <th>age_25</th>\n",
       "      <th>age_26</th>\n",
       "      <th>age_27</th>\n",
       "      <th>...</th>\n",
       "      <th>Rent_(2044.0, 3000.0]</th>\n",
       "      <th>Rent_(3000.0, 3800.0]</th>\n",
       "      <th>Rent_(3800.0, 4550.0]</th>\n",
       "      <th>Rent_(4550.0, 5400.0]</th>\n",
       "      <th>Rent_(5400.0, 6300.0]</th>\n",
       "      <th>Rent_(6300.0, 7500.0]</th>\n",
       "      <th>Rent_(7500.0, 9060.0]</th>\n",
       "      <th>Rent_(9060.0, 11600.0]</th>\n",
       "      <th>Rent_(11600.0, 7727000.0]</th>\n",
       "      <th>Rent_nan</th>\n",
       "    </tr>\n",
       "  </thead>\n",
       "  <tbody>\n",
       "    <tr>\n",
       "      <th rowspan=\"5\" valign=\"top\">tr</th>\n",
       "      <th>0</th>\n",
       "      <td>1</td>\n",
       "      <td>0.766127</td>\n",
       "      <td>0.802982</td>\n",
       "      <td>0</td>\n",
       "      <td>0</td>\n",
       "      <td>0</td>\n",
       "      <td>0</td>\n",
       "      <td>0</td>\n",
       "      <td>0</td>\n",
       "      <td>0</td>\n",
       "      <td>...</td>\n",
       "      <td>0</td>\n",
       "      <td>0</td>\n",
       "      <td>0</td>\n",
       "      <td>0</td>\n",
       "      <td>0</td>\n",
       "      <td>0</td>\n",
       "      <td>0</td>\n",
       "      <td>1</td>\n",
       "      <td>0</td>\n",
       "      <td>0</td>\n",
       "    </tr>\n",
       "    <tr>\n",
       "      <th>1</th>\n",
       "      <td>0</td>\n",
       "      <td>0.957151</td>\n",
       "      <td>0.121876</td>\n",
       "      <td>0</td>\n",
       "      <td>0</td>\n",
       "      <td>0</td>\n",
       "      <td>0</td>\n",
       "      <td>0</td>\n",
       "      <td>0</td>\n",
       "      <td>0</td>\n",
       "      <td>...</td>\n",
       "      <td>1</td>\n",
       "      <td>0</td>\n",
       "      <td>0</td>\n",
       "      <td>0</td>\n",
       "      <td>0</td>\n",
       "      <td>0</td>\n",
       "      <td>0</td>\n",
       "      <td>0</td>\n",
       "      <td>0</td>\n",
       "      <td>0</td>\n",
       "    </tr>\n",
       "    <tr>\n",
       "      <th>2</th>\n",
       "      <td>0</td>\n",
       "      <td>0.658180</td>\n",
       "      <td>0.085113</td>\n",
       "      <td>0</td>\n",
       "      <td>0</td>\n",
       "      <td>0</td>\n",
       "      <td>0</td>\n",
       "      <td>0</td>\n",
       "      <td>0</td>\n",
       "      <td>0</td>\n",
       "      <td>...</td>\n",
       "      <td>0</td>\n",
       "      <td>1</td>\n",
       "      <td>0</td>\n",
       "      <td>0</td>\n",
       "      <td>0</td>\n",
       "      <td>0</td>\n",
       "      <td>0</td>\n",
       "      <td>0</td>\n",
       "      <td>0</td>\n",
       "      <td>0</td>\n",
       "    </tr>\n",
       "    <tr>\n",
       "      <th>3</th>\n",
       "      <td>0</td>\n",
       "      <td>0.233810</td>\n",
       "      <td>0.036050</td>\n",
       "      <td>0</td>\n",
       "      <td>0</td>\n",
       "      <td>0</td>\n",
       "      <td>0</td>\n",
       "      <td>0</td>\n",
       "      <td>0</td>\n",
       "      <td>0</td>\n",
       "      <td>...</td>\n",
       "      <td>0</td>\n",
       "      <td>1</td>\n",
       "      <td>0</td>\n",
       "      <td>0</td>\n",
       "      <td>0</td>\n",
       "      <td>0</td>\n",
       "      <td>0</td>\n",
       "      <td>0</td>\n",
       "      <td>0</td>\n",
       "      <td>0</td>\n",
       "    </tr>\n",
       "    <tr>\n",
       "      <th>4</th>\n",
       "      <td>0</td>\n",
       "      <td>0.907239</td>\n",
       "      <td>0.024926</td>\n",
       "      <td>0</td>\n",
       "      <td>0</td>\n",
       "      <td>0</td>\n",
       "      <td>0</td>\n",
       "      <td>0</td>\n",
       "      <td>0</td>\n",
       "      <td>0</td>\n",
       "      <td>...</td>\n",
       "      <td>0</td>\n",
       "      <td>0</td>\n",
       "      <td>0</td>\n",
       "      <td>0</td>\n",
       "      <td>0</td>\n",
       "      <td>0</td>\n",
       "      <td>0</td>\n",
       "      <td>0</td>\n",
       "      <td>1</td>\n",
       "      <td>0</td>\n",
       "    </tr>\n",
       "  </tbody>\n",
       "</table>\n",
       "<p>5 rows × 206 columns</p>\n",
       "</div>"
      ],
      "text/plain": [
       "      SeriousDlqin2yrs  RevolvingUtilizationOfUnsecuredLines  DebtRatio  \\\n",
       "tr 0                 1                              0.766127   0.802982   \n",
       "   1                 0                              0.957151   0.121876   \n",
       "   2                 0                              0.658180   0.085113   \n",
       "   3                 0                              0.233810   0.036050   \n",
       "   4                 0                              0.907239   0.024926   \n",
       "\n",
       "      age_21  age_22  age_23  age_24  age_25  age_26  age_27    ...     \\\n",
       "tr 0       0       0       0       0       0       0       0    ...      \n",
       "   1       0       0       0       0       0       0       0    ...      \n",
       "   2       0       0       0       0       0       0       0    ...      \n",
       "   3       0       0       0       0       0       0       0    ...      \n",
       "   4       0       0       0       0       0       0       0    ...      \n",
       "\n",
       "      Rent_(2044.0, 3000.0]  Rent_(3000.0, 3800.0]  Rent_(3800.0, 4550.0]  \\\n",
       "tr 0                      0                      0                      0   \n",
       "   1                      1                      0                      0   \n",
       "   2                      0                      1                      0   \n",
       "   3                      0                      1                      0   \n",
       "   4                      0                      0                      0   \n",
       "\n",
       "      Rent_(4550.0, 5400.0]  Rent_(5400.0, 6300.0]  Rent_(6300.0, 7500.0]  \\\n",
       "tr 0                      0                      0                      0   \n",
       "   1                      0                      0                      0   \n",
       "   2                      0                      0                      0   \n",
       "   3                      0                      0                      0   \n",
       "   4                      0                      0                      0   \n",
       "\n",
       "      Rent_(7500.0, 9060.0]  Rent_(9060.0, 11600.0]  \\\n",
       "tr 0                      0                       1   \n",
       "   1                      0                       0   \n",
       "   2                      0                       0   \n",
       "   3                      0                       0   \n",
       "   4                      0                       0   \n",
       "\n",
       "      Rent_(11600.0, 7727000.0]  Rent_nan  \n",
       "tr 0                          0         0  \n",
       "   1                          0         0  \n",
       "   2                          0         0  \n",
       "   3                          0         0  \n",
       "   4                          1         0  \n",
       "\n",
       "[5 rows x 206 columns]"
      ]
     },
     "execution_count": 176,
     "metadata": {},
     "output_type": "execute_result"
    }
   ],
   "source": [
    "%store -r newtrain_t4\n",
    "newtrain_t4.head(5)"
   ]
  },
  {
   "cell_type": "markdown",
   "metadata": {},
   "source": [
    "#### Datos train y datos testing"
   ]
  },
  {
   "cell_type": "code",
   "execution_count": 177,
   "metadata": {},
   "outputs": [],
   "source": [
    "# asignamos variable dependiente e independiente\n",
    "X = newtrain_t4.iloc[:,1:] # features\n",
    "y = newtrain_t4.iloc[:,0] # variable target"
   ]
  },
  {
   "cell_type": "code",
   "execution_count": 178,
   "metadata": {},
   "outputs": [
    {
     "data": {
      "text/plain": [
       "(105000, 205)"
      ]
     },
     "execution_count": 178,
     "metadata": {},
     "output_type": "execute_result"
    }
   ],
   "source": [
    "# Definimos cada una de las partes. Entrenamos con el 70% de las obs.\n",
    "X_train,X_test,y_train,y_test=train_test_split(X,y,test_size=0.3,random_state=0)\n",
    "\n",
    "X_train.shape"
   ]
  },
  {
   "cell_type": "code",
   "execution_count": 179,
   "metadata": {
    "scrolled": false
   },
   "outputs": [
    {
     "name": "stdout",
     "output_type": "stream",
     "text": [
      "(105000, 205)\n",
      "(45000, 205)\n",
      "(105000,)\n",
      "(45000,)\n"
     ]
    }
   ],
   "source": [
    "# 105K obs en train, 45K en test\n",
    "# 248 variables\n",
    "print (X_train.shape)\n",
    "print (X_test.shape)\n",
    "print (y_train.shape)\n",
    "print (y_test.shape)"
   ]
  },
  {
   "cell_type": "markdown",
   "metadata": {},
   "source": [
    "### XGBoost"
   ]
  },
  {
   "cell_type": "markdown",
   "metadata": {},
   "source": [
    "##### 1) Entrenamiento"
   ]
  },
  {
   "cell_type": "code",
   "execution_count": 180,
   "metadata": {},
   "outputs": [
    {
     "data": {
      "text/plain": [
       "GradientBoostingClassifier(criterion='friedman_mse', init=None,\n",
       "              learning_rate=0.05, loss='deviance', max_depth=8,\n",
       "              max_features=None, max_leaf_nodes=None,\n",
       "              min_impurity_decrease=0.0, min_impurity_split=None,\n",
       "              min_samples_leaf=1, min_samples_split=2,\n",
       "              min_weight_fraction_leaf=0.0, n_estimators=300,\n",
       "              presort='auto', random_state=42, subsample=1.0, verbose=0,\n",
       "              warm_start=False)"
      ]
     },
     "execution_count": 180,
     "metadata": {},
     "output_type": "execute_result"
    }
   ],
   "source": [
    "# Training\n",
    "gbc_clf = GradientBoostingClassifier(n_estimators=300, learning_rate=0.05, max_depth=8, random_state=42)\n",
    "gbc_clf.fit(X_train,y_train)"
   ]
  },
  {
   "cell_type": "code",
   "execution_count": 181,
   "metadata": {},
   "outputs": [
    {
     "name": "stdout",
     "output_type": "stream",
     "text": [
      "AUC Score 0.9078768544924992\n"
     ]
    },
    {
     "data": {
      "image/png": "[encoded data removed]",
      "text/plain": [
       "<Figure size 864x720 with 1 Axes>"
      ]
     },
     "metadata": {},
     "output_type": "display_data"
    }
   ],
   "source": [
    "# Predicción sobre train\n",
    "gbc_clf_proba = gbc_clf.predict_proba(X_train)\n",
    "gbc_clf_scores = gbc_clf_proba[:,1]\n",
    "fpr_gbc, tpr_gbc, thresh_gbc = roc_curve(y_train, gbc_clf_scores)\n",
    "plot_roc_curve(fpr_gbc, tpr_gbc)\n",
    "print(\"AUC Score {}\".format(roc_auc_score(y_train, gbc_clf_scores)))"
   ]
  },
  {
   "cell_type": "markdown",
   "metadata": {},
   "source": [
    "##### 2) Validación"
   ]
  },
  {
   "cell_type": "code",
   "execution_count": 182,
   "metadata": {},
   "outputs": [
    {
     "name": "stdout",
     "output_type": "stream",
     "text": [
      "AUC Score 0.846524347287916\n"
     ]
    },
    {
     "data": {
      "image/png": "[encoded data removed]",
      "text/plain": [
       "<Figure size 864x720 with 1 Axes>"
      ]
     },
     "metadata": {},
     "output_type": "display_data"
    }
   ],
   "source": [
    "# Predicción sobre test\n",
    "gbc_clf_proba = gbc_clf.predict_proba(X_test)\n",
    "gbc_clf_scores = gbc_clf_proba[:,1]\n",
    "fpr_gbc, tpr_gbc, thresh_gbc = roc_curve(y_test, gbc_clf_scores)\n",
    "plot_roc_curve(fpr_gbc, tpr_gbc)\n",
    "print(\"AUC Score {}\".format(roc_auc_score(y_test, gbc_clf_scores)))"
   ]
  },
  {
   "cell_type": "code",
   "execution_count": 183,
   "metadata": {},
   "outputs": [
    {
     "data": {
      "text/plain": [
       "array([[41527,   438],\n",
       "       [ 2535,   500]], dtype=int64)"
      ]
     },
     "execution_count": 183,
     "metadata": {},
     "output_type": "execute_result"
    }
   ],
   "source": [
    "# Matriz de confusión\n",
    "y_pred_test=gbc_clf.predict(X_test)\n",
    "cnf_matrix = confusion_matrix(y_test, y_pred_test)\n",
    "cnf_matrix"
   ]
  },
  {
   "cell_type": "code",
   "execution_count": 184,
   "metadata": {},
   "outputs": [
    {
     "name": "stdout",
     "output_type": "stream",
     "text": [
      "             precision    recall  f1-score   support\n",
      "\n",
      "          0       0.94      0.99      0.97     41965\n",
      "          1       0.53      0.16      0.25      3035\n",
      "\n",
      "avg / total       0.91      0.93      0.92     45000\n",
      "\n"
     ]
    }
   ],
   "source": [
    "# Métricas\n",
    "metricas_GB_t4 = classification_report(y_test, y_pred_test)\n",
    "print(metricas_GB_t4)"
   ]
  },
  {
   "cell_type": "code",
   "execution_count": 185,
   "metadata": {},
   "outputs": [
    {
     "data": {
      "text/plain": [
       "-0.05041641549961895"
      ]
     },
     "execution_count": 185,
     "metadata": {},
     "output_type": "execute_result"
    }
   ],
   "source": [
    "# coeficiente de determinación\n",
    "r2_score(y_test, y_pred_test)"
   ]
  },
  {
   "cell_type": "markdown",
   "metadata": {},
   "source": [
    "![title](imagen/task.png)"
   ]
  },
  {
   "cell_type": "markdown",
   "metadata": {},
   "source": [
    "<div class=\"alert alert-block alert-info\">\n",
    "<b>Conclusiones</b> \n",
    "</div>"
   ]
  },
  {
   "cell_type": "code",
   "execution_count": 186,
   "metadata": {},
   "outputs": [
    {
     "data": {
      "text/plain": [
       "'             precision    recall  f1-score   support\\n\\n          0       0.94      0.99      0.97     41965\\n          1       0.53      0.18      0.27      3035\\n\\navg / total       0.92      0.93      0.92     45000\\n'"
      ]
     },
     "execution_count": 186,
     "metadata": {},
     "output_type": "execute_result"
    }
   ],
   "source": [
    "#### Tratamiento 1\n",
    "metricas_GB_t1 # métricas XGBoost con datos tratamiento 1"
   ]
  },
  {
   "cell_type": "code",
   "execution_count": 187,
   "metadata": {},
   "outputs": [
    {
     "name": "stdout",
     "output_type": "stream",
     "text": [
      "Stored 'metricas_GB_t1' (str)\n"
     ]
    }
   ],
   "source": [
    "%store metricas_GB_t1"
   ]
  },
  {
   "cell_type": "code",
   "execution_count": 204,
   "metadata": {
    "scrolled": true
   },
   "outputs": [
    {
     "name": "stdout",
     "output_type": "stream",
     "text": [
      "Stored 'cnf_matrix_GB' (ndarray)\n"
     ]
    }
   ],
   "source": [
    "%store cnf_matrix_GB"
   ]
  },
  {
   "cell_type": "code",
   "execution_count": 188,
   "metadata": {},
   "outputs": [
    {
     "data": {
      "text/plain": [
       "'             precision    recall  f1-score   support\\n\\n          0       0.94      0.99      0.96     41965\\n          1       0.51      0.16      0.24      3035\\n\\navg / total       0.91      0.93      0.92     45000\\n'"
      ]
     },
     "execution_count": 188,
     "metadata": {},
     "output_type": "execute_result"
    }
   ],
   "source": [
    "#### Tratamiento 2\n",
    "metricas_GB_t2 # métricas XGBoost con datos tratamiento 2"
   ]
  },
  {
   "cell_type": "code",
   "execution_count": 189,
   "metadata": {},
   "outputs": [
    {
     "name": "stdout",
     "output_type": "stream",
     "text": [
      "Stored 'metricas_GB_t2' (str)\n"
     ]
    }
   ],
   "source": [
    "%store metricas_GB_t2"
   ]
  },
  {
   "cell_type": "code",
   "execution_count": 190,
   "metadata": {},
   "outputs": [
    {
     "data": {
      "text/plain": [
       "'             precision    recall  f1-score   support\\n\\n          0       0.94      0.99      0.96     41965\\n          1       0.51      0.16      0.24      3035\\n\\navg / total       0.91      0.93      0.92     45000\\n'"
      ]
     },
     "execution_count": 190,
     "metadata": {},
     "output_type": "execute_result"
    }
   ],
   "source": [
    "#### Tratamiento 3\n",
    "metricas_GB_t3  # métricas XGBoost con datos tratamiento 3"
   ]
  },
  {
   "cell_type": "code",
   "execution_count": 191,
   "metadata": {},
   "outputs": [
    {
     "name": "stdout",
     "output_type": "stream",
     "text": [
      "Stored 'metricas_GB_t3' (str)\n"
     ]
    }
   ],
   "source": [
    "%store metricas_GB_t3"
   ]
  },
  {
   "cell_type": "code",
   "execution_count": 192,
   "metadata": {},
   "outputs": [
    {
     "data": {
      "text/plain": [
       "'             precision    recall  f1-score   support\\n\\n          0       0.94      0.99      0.97     41965\\n          1       0.53      0.16      0.25      3035\\n\\navg / total       0.91      0.93      0.92     45000\\n'"
      ]
     },
     "execution_count": 192,
     "metadata": {},
     "output_type": "execute_result"
    }
   ],
   "source": [
    "#### Tratamiento 4\n",
    "metricas_GB_t4 # métricas XGBoost con datos tratamiento 4"
   ]
  },
  {
   "cell_type": "code",
   "execution_count": 193,
   "metadata": {},
   "outputs": [
    {
     "name": "stdout",
     "output_type": "stream",
     "text": [
      "Stored 'metricas_GB_t4' (str)\n"
     ]
    }
   ],
   "source": [
    "%store metricas_GB_t4"
   ]
  }
 ],
 "metadata": {
  "kernelspec": {
   "display_name": "Python 3",
   "language": "python",
   "name": "python3"
  },
  "language_info": {
   "codemirror_mode": {
    "name": "ipython",
    "version": 3
   },
   "file_extension": ".py",
   "mimetype": "text/x-python",
   "name": "python",
   "nbconvert_exporter": "python",
   "pygments_lexer": "ipython3",
   "version": "3.6.5"
  }
 },
 "nbformat": 4,
 "nbformat_minor": 2
}
